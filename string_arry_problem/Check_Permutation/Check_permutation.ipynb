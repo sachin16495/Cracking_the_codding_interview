{
 "cells": [
  {
   "cell_type": "code",
   "execution_count": 23,
   "metadata": {},
   "outputs": [],
   "source": [
    "def check_permutation(str1,str2):\n",
    "    str1=sorted(str1)\n",
    "    str2=sorted(str2)\n",
    "    dics1={st:0 for st in str1 }\n",
    "    dics2={st:0 for st in str2}\n",
    "    flag=0\n",
    "    if len(dics1)==(len(dics2)):\n",
    "        for i,j in zip(str1,str2):\n",
    "            dics1[i]=dics1[i]+1\n",
    "            dics2[j]=dics2[j]+1\n",
    "        for st in str1:\n",
    "            if dics1[st]==dics2[st]:\n",
    "                flag=1\n",
    "            else:\n",
    "                flag=0\n",
    "                break\n",
    "                \n",
    "    else:\n",
    "        flag=0\n",
    "    \n",
    "    if flag==0:\n",
    "        print(\"No Permutation\")\n",
    "    else:\n",
    "        print(\"Permutation\")\n",
    "            \n",
    "                "
   ]
  },
  {
   "cell_type": "code",
   "execution_count": 27,
   "metadata": {},
   "outputs": [
    {
     "name": "stdout",
     "output_type": "stream",
     "text": [
      "No Permutation\n"
     ]
    }
   ],
   "source": [
    "check_permutation(\"sachin\",\"sachinl\")"
   ]
  },
  {
   "cell_type": "markdown",
   "metadata": {},
   "source": [
    "O(n+n)=O(n)"
   ]
  }
 ],
 "metadata": {
  "kernelspec": {
   "display_name": "Python 3",
   "language": "python",
   "name": "python3"
  },
  "language_info": {
   "codemirror_mode": {
    "name": "ipython",
    "version": 3
   },
   "file_extension": ".py",
   "mimetype": "text/x-python",
   "name": "python",
   "nbconvert_exporter": "python",
   "pygments_lexer": "ipython3",
   "version": "3.8.5"
  }
 },
 "nbformat": 4,
 "nbformat_minor": 4
}
