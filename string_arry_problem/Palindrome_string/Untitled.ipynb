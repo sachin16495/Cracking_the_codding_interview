{
 "cells": [
  {
   "cell_type": "code",
   "execution_count": 11,
   "metadata": {},
   "outputs": [],
   "source": [
    "def check_palindrome_comp(strin):\n",
    "    strin=strin.lower()\n",
    "    dic_str={i:0 for i in strin}\n",
    "    for i in strin:\n",
    "        dic_str[i]=dic_str[i]+1\n",
    "    \n",
    "    if len(strin)%2:\n",
    "        for ky in dic_str.keys():\n",
    "            \n",
    "    print(dic_str)"
   ]
  },
  {
   "cell_type": "code",
   "execution_count": 12,
   "metadata": {},
   "outputs": [
    {
     "name": "stdout",
     "output_type": "stream",
     "text": [
      "{'t': 2, 'a': 2, 'c': 2, ' ': 1, 'o': 1}\n"
     ]
    }
   ],
   "source": [
    "check_palindrome_comp(\"Tact Coa\")"
   ]
  },
  {
   "cell_type": "code",
   "execution_count": 13,
   "metadata": {},
   "outputs": [],
   "source": [
    "#\"ababtybaba\""
   ]
  },
  {
   "cell_type": "code",
   "execution_count": null,
   "metadata": {},
   "outputs": [],
   "source": [
    "atcoeta                    atcoeta             ateocta      atcoeta"
   ]
  }
 ],
 "metadata": {
  "kernelspec": {
   "display_name": "Python 3",
   "language": "python",
   "name": "python3"
  },
  "language_info": {
   "codemirror_mode": {
    "name": "ipython",
    "version": 3
   },
   "file_extension": ".py",
   "mimetype": "text/x-python",
   "name": "python",
   "nbconvert_exporter": "python",
   "pygments_lexer": "ipython3",
   "version": "3.8.5"
  }
 },
 "nbformat": 4,
 "nbformat_minor": 4
}
