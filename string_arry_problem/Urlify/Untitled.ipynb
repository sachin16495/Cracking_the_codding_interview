{
 "cells": [
  {
   "cell_type": "code",
   "execution_count": 37,
   "metadata": {},
   "outputs": [],
   "source": [
    "def urlify(stri):\n",
    "    stri=stri.split(\" \")\n",
    "    for i in range(1,len(stri)):\n",
    "        if stri[i]!='':\n",
    "            strp=\"%20\"+stri[i]\n",
    "            stri[i]=strp\n",
    "        else:\n",
    "            \n",
    "            del stri[i:]\n",
    "            break\n",
    "    strip=''.join(stri)\n",
    "    print(strip)"
   ]
  },
  {
   "cell_type": "code",
   "execution_count": 38,
   "metadata": {},
   "outputs": [
    {
     "name": "stdout",
     "output_type": "stream",
     "text": [
      "Mr%20John%20Smith\n"
     ]
    }
   ],
   "source": [
    "str=\"Mr John Smith   \"\n",
    "urlify(str)"
   ]
  },
  {
   "cell_type": "markdown",
   "metadata": {},
   "source": [
    "Complexity O(n)"
   ]
  }
 ],
 "metadata": {
  "kernelspec": {
   "display_name": "Python 3",
   "language": "python",
   "name": "python3"
  },
  "language_info": {
   "codemirror_mode": {
    "name": "ipython",
    "version": 3
   },
   "file_extension": ".py",
   "mimetype": "text/x-python",
   "name": "python",
   "nbconvert_exporter": "python",
   "pygments_lexer": "ipython3",
   "version": "3.8.5"
  }
 },
 "nbformat": 4,
 "nbformat_minor": 4
}
