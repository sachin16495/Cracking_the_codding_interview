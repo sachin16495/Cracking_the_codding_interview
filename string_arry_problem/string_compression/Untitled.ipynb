{
 "cells": [
  {
   "cell_type": "code",
   "execution_count": 71,
   "metadata": {},
   "outputs": [],
   "source": [
    "def string_compr(strin):\n",
    "    dic_strin={}\n",
    "    dic_strin={k:0 for k in strin}\n",
    "    currstr=strin[0]\n",
    "    string_dic=\"\"\n",
    "    for i in range(0,len(strin)):\n",
    "        #print(strin[i])\n",
    "        if currstr==strin[i]:\n",
    "            dic_strin[strin[i]]=dic_strin[strin[i]]+1\n",
    "        else:\n",
    "            #dic_strin[i]=dic_strin[strin[i]]+1\n",
    "            #if i>0:\n",
    "            #    dic_strin[strin[i]]=dic_strin[strin[i]]+1\n",
    "            dic_strin[strin[i]]=dic_strin[strin[i]]+1    \n",
    "            string_dic=\"\".join(k+\"\"+str(dic_strin[k]) for k in dic_strin.keys())\n",
    "            dic_strin[strin[i]]=0\n",
    "        #if \n",
    "        currstr=strin[i]\n",
    "        \n",
    "\n",
    "    #string_dic=\"\".join(i+\"\"+str(dic_strin[i]) for i in dic_strin.keys())\n",
    "    return string_dic"
   ]
  },
  {
   "cell_type": "code",
   "execution_count": null,
   "metadata": {},
   "outputs": [],
   "source": [
    "a2b1c5a3"
   ]
  },
  {
   "cell_type": "code",
   "execution_count": 72,
   "metadata": {},
   "outputs": [],
   "source": [
    "a=string_compr(\"aabcccccaaa\")"
   ]
  },
  {
   "cell_type": "code",
   "execution_count": 73,
   "metadata": {},
   "outputs": [
    {
     "data": {
      "text/plain": [
       "'a3b0c4'"
      ]
     },
     "execution_count": 73,
     "metadata": {},
     "output_type": "execute_result"
    }
   ],
   "source": [
    "a"
   ]
  },
  {
   "cell_type": "code",
   "execution_count": 17,
   "metadata": {},
   "outputs": [
    {
     "data": {
      "text/plain": [
       "'S1a1c1h1i1n1'"
      ]
     },
     "execution_count": 17,
     "metadata": {},
     "output_type": "execute_result"
    }
   ],
   "source": []
  }
 ],
 "metadata": {
  "kernelspec": {
   "display_name": "Python 3",
   "language": "python",
   "name": "python3"
  },
  "language_info": {
   "codemirror_mode": {
    "name": "ipython",
    "version": 3
   },
   "file_extension": ".py",
   "mimetype": "text/x-python",
   "name": "python",
   "nbconvert_exporter": "python",
   "pygments_lexer": "ipython3",
   "version": "3.8.5"
  }
 },
 "nbformat": 4,
 "nbformat_minor": 4
}
